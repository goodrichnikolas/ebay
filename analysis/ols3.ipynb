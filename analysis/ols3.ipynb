{
 "cells": [
  {
   "cell_type": "code",
   "execution_count": 1,
   "metadata": {},
   "outputs": [
    {
     "ename": "ModuleNotFoundError",
     "evalue": "No module named 'matplotlib'",
     "output_type": "error",
     "traceback": [
      "\u001b[0;31m---------------------------------------------------------------------------\u001b[0m",
      "\u001b[0;31mModuleNotFoundError\u001b[0m                       Traceback (most recent call last)",
      "Cell \u001b[0;32mIn[1], line 9\u001b[0m\n\u001b[1;32m      7\u001b[0m \u001b[38;5;28;01mfrom\u001b[39;00m \u001b[38;5;21;01msklearn\u001b[39;00m\u001b[38;5;21;01m.\u001b[39;00m\u001b[38;5;21;01mmetrics\u001b[39;00m \u001b[38;5;28;01mimport\u001b[39;00m mean_squared_error, r2_score, mean_absolute_error\n\u001b[1;32m      8\u001b[0m \u001b[38;5;28;01mimport\u001b[39;00m \u001b[38;5;21;01mos\u001b[39;00m\n\u001b[0;32m----> 9\u001b[0m \u001b[38;5;28;01mimport\u001b[39;00m \u001b[38;5;21;01mmatplotlib\u001b[39;00m\u001b[38;5;21;01m.\u001b[39;00m\u001b[38;5;21;01mpyplot\u001b[39;00m \u001b[38;5;28;01mas\u001b[39;00m \u001b[38;5;21;01mplt\u001b[39;00m\n\u001b[1;32m     10\u001b[0m \u001b[38;5;28;01mimport\u001b[39;00m \u001b[38;5;21;01mseaborn\u001b[39;00m \u001b[38;5;28;01mas\u001b[39;00m \u001b[38;5;21;01msns\u001b[39;00m\n",
      "\u001b[0;31mModuleNotFoundError\u001b[0m: No module named 'matplotlib'"
     ]
    }
   ],
   "source": [
    "# Imports\n",
    "import pandas as pd\n",
    "import numpy as np\n",
    "from sklearn.linear_model import LinearRegression\n",
    "from sklearn.model_selection import train_test_split, cross_val_score\n",
    "from sklearn.preprocessing import LabelEncoder, StandardScaler\n",
    "from sklearn.metrics import mean_squared_error, r2_score, mean_absolute_error\n",
    "import os\n",
    "import matplotlib.pyplot as plt\n",
    "import seaborn as sns\n"
   ]
  },
  {
   "cell_type": "code",
   "execution_count": null,
   "metadata": {},
   "outputs": [],
   "source": [
    "# Load and preprocess data\n",
    "print(os.getcwd())\n",
    "df = pd.read_csv('../processed/'+sorted(os.listdir('../processed'))[-1])\n",
    "\n",
    "# Basic preprocessing\n",
    "df.drop(columns=['character2'], inplace=True)\n",
    "df = df[df['psa_grade'] <= 10]\n",
    "\n",
    "# Create processed dataframe\n",
    "df_processed = df.copy()\n"
   ]
  },
  {
   "cell_type": "code",
   "execution_count": null,
   "metadata": {},
   "outputs": [],
   "source": [
    "# Feature engineering and encoding\n",
    "# Convert date columns to datetime\n",
    "df_processed['scrape_date'] = pd.to_datetime(df_processed['scrape_date'])\n",
    "df_processed['sold_date'] = pd.to_datetime(df_processed['sold_date'])\n",
    "\n",
    "# Add new features\n",
    "df_processed['days_listed'] = (df_processed['sold_date'] - df_processed['scrape_date']).dt.days\n",
    "df_processed['total_cost'] = df_processed['price'] + df_processed['shipping']\n",
    "\n",
    "# Encode categorical variables\n",
    "le_condition = LabelEncoder()\n",
    "le_character = LabelEncoder()\n",
    "df_processed['condition'] = le_condition.fit_transform(df_processed['condition'])\n",
    "df_processed['character'] = le_character.fit_transform(df_processed['character'])\n"
   ]
  },
  {
   "cell_type": "code",
   "execution_count": null,
   "metadata": {},
   "outputs": [],
   "source": [
    "# Prepare features for modeling\n",
    "features = ['shipping', 'condition', 'character', 'psa_grade', 'days_listed']\n",
    "X = df_processed[features]\n",
    "y = df_processed['price']\n",
    "\n",
    "# Scale features\n",
    "scaler = StandardScaler()\n",
    "X_scaled = scaler.fit_transform(X)\n",
    "X_scaled = pd.DataFrame(X_scaled, columns=features)\n"
   ]
  },
  {
   "cell_type": "code",
   "execution_count": null,
   "metadata": {},
   "outputs": [],
   "source": [
    "# Split data and train model\n",
    "X_train, X_test, y_train, y_test = train_test_split(X_scaled, y, test_size=0.2, random_state=42)\n",
    "\n",
    "model = LinearRegression()\n",
    "model.fit(X_train, y_train)\n"
   ]
  },
  {
   "cell_type": "code",
   "execution_count": null,
   "metadata": {},
   "outputs": [],
   "source": [
    "# Define evaluation function\n",
    "def evaluate_model(model, X_train, X_test, y_train, y_test):\n",
    "    # Training metrics\n",
    "    train_pred = model.predict(X_train)\n",
    "    train_r2 = r2_score(y_train, train_pred)\n",
    "    train_rmse = np.sqrt(mean_squared_error(y_train, train_pred))\n",
    "    train_mae = mean_absolute_error(y_train, train_pred)\n",
    "    \n",
    "    # Testing metrics\n",
    "    test_pred = model.predict(X_test)\n",
    "    test_r2 = r2_score(y_test, test_pred)\n",
    "    test_rmse = np.sqrt(mean_squared_error(y_test, test_pred))\n",
    "    test_mae = mean_absolute_error(y_test, test_pred)\n",
    "    \n",
    "    # Cross-validation\n",
    "    cv_scores = cross_val_score(model, X_scaled, y, cv=5)\n",
    "    \n",
    "    print(\"Training Metrics:\")\n",
    "    print(f\"R² Score: {train_r2:.4f}\")\n",
    "    print(f\"RMSE: ${train_rmse:.2f}\")\n",
    "    print(f\"MAE: ${train_mae:.2f}\\n\")\n",
    "    \n",
    "    print(\"Testing Metrics:\")\n",
    "    print(f\"R² Score: {test_r2:.4f}\")\n",
    "    print(f\"RMSE: ${test_rmse:.2f}\")\n",
    "    print(f\"MAE: ${test_mae:.2f}\\n\")\n",
    "    \n",
    "    print(\"Cross-validation Scores:\")\n",
    "    print(f\"Mean R²: {cv_scores.mean():.4f} (+/- {cv_scores.std() * 2:.4f})\")\n",
    "    \n",
    "    return test_pred\n"
   ]
  },
  {
   "cell_type": "code",
   "execution_count": null,
   "metadata": {},
   "outputs": [],
   "source": [
    "# Define feature importance analysis function\n",
    "def analyze_features(model, features):\n",
    "    coef_df = pd.DataFrame({\n",
    "        'Feature': features,\n",
    "        'Coefficient': model.coef_,\n",
    "        'Abs_Coefficient': abs(model.coef_)\n",
    "    })\n",
    "    coef_df = coef_df.sort_values('Abs_Coefficient', ascending=False)\n",
    "    \n",
    "    print(\"\\nFeature Importance:\")\n",
    "    print(coef_df)\n",
    "    return coef_df\n"
   ]
  },
  {
   "cell_type": "code",
   "execution_count": null,
   "metadata": {},
   "outputs": [],
   "source": [
    "# Define prediction function\n",
    "def predict_price(model, scaler, new_data, le_condition, le_character):\n",
    "    # Prepare new data\n",
    "    new_data_encoded = new_data.copy()\n",
    "    new_data_encoded['condition'] = le_condition.transform([new_data['condition']])[0]\n",
    "    new_data_encoded['character'] = le_character.transform([new_data['character']])[0]\n",
    "    \n",
    "    # Scale features\n",
    "    features_scaled = scaler.transform(pd.DataFrame([new_data_encoded]))\n",
    "    \n",
    "    # Make prediction\n",
    "    predicted_price = model.predict(features_scaled)[0]\n",
    "    return predicted_price\n"
   ]
  },
  {
   "cell_type": "code",
   "execution_count": null,
   "metadata": {},
   "outputs": [],
   "source": [
    "# Evaluate model\n",
    "test_predictions = evaluate_model(model, X_train, X_test, y_train, y_test)\n",
    "\n",
    "# Analyze feature importance\n",
    "coef_df = analyze_features(model, features)\n"
   ]
  },
  {
   "cell_type": "code",
   "execution_count": null,
   "metadata": {},
   "outputs": [],
   "source": [
    "# Visualize predictions vs actual\n",
    "plt.figure(figsize=(10, 6))\n",
    "plt.scatter(y_test, test_predictions, alpha=0.5)\n",
    "plt.plot([y_test.min(), y_test.max()], [y_test.min(), y_test.max()], 'r--', lw=2)\n",
    "plt.xlabel('Actual Price')\n",
    "plt.ylabel('Predicted Price')\n",
    "plt.title('Predicted vs Actual Prices')\n",
    "plt.tight_layout()\n",
    "plt.show()\n"
   ]
  },
  {
   "cell_type": "code",
   "execution_count": null,
   "metadata": {},
   "outputs": [],
   "source": [
    "# Example prediction\n",
    "example_card = {\n",
    "    'shipping': 0,\n",
    "    'condition': 'new (other)',\n",
    "    'character': 'mew',\n",
    "    'psa_grade': 9,\n",
    "    'days_listed': 0\n",
    "}\n",
    "\n",
    "predicted_price = predict_price(model, scaler, example_card, le_condition, le_character)\n",
    "print(f\"\\nExample Prediction:\")\n",
    "print(f\"Predicted price for a PSA 9 {example_card['character']} card in {example_card['condition']} condition: ${predicted_price:.2f}\")\n"
   ]
  },
  {
   "cell_type": "code",
   "execution_count": null,
   "metadata": {},
   "outputs": [],
   "source": [
    "# Additional analysis: Feature correlations\n",
    "correlation_matrix = df_processed[features + ['price']].corr()\n",
    "plt.figure(figsize=(10, 8))\n",
    "sns.heatmap(correlation_matrix, annot=True, cmap='coolwarm', center=0)\n",
    "plt.title('Feature Correlations')\n",
    "plt.tight_layout()\n",
    "plt.show()"
   ]
  }
 ],
 "metadata": {
  "kernelspec": {
   "display_name": "ebay",
   "language": "python",
   "name": "python3"
  },
  "language_info": {
   "codemirror_mode": {
    "name": "ipython",
    "version": 3
   },
   "file_extension": ".py",
   "mimetype": "text/x-python",
   "name": "python",
   "nbconvert_exporter": "python",
   "pygments_lexer": "ipython3",
   "version": "3.12.0"
  }
 },
 "nbformat": 4,
 "nbformat_minor": 2
}
